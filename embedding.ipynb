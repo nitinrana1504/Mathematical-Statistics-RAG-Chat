{
 "cells": [
  {
   "cell_type": "code",
   "execution_count": 16,
   "id": "67df3123-d4eb-4027-aeae-27c6f59d9e69",
   "metadata": {},
   "outputs": [],
   "source": [
    "import os\n",
    "from dotenv import load_dotenv\n",
    "import google.generativeai as genai\n",
    "from langchain_community.document_loaders import PyPDFLoader\n",
    "from langchain.text_splitter import RecursiveCharacterTextSplitter\n",
    "from pinecone import Pinecone\n",
    "from langchain.vectorstores import Pinecone as PineconeStore"
   ]
  },
  {
   "cell_type": "code",
   "execution_count": 2,
   "id": "0dc8ab65-9b32-4368-b92e-b3723c106491",
   "metadata": {},
   "outputs": [
    {
     "name": "stderr",
     "output_type": "stream",
     "text": [
      "<>:7: SyntaxWarning: invalid escape sequence '\\R'\n",
      "<>:7: SyntaxWarning: invalid escape sequence '\\R'\n",
      "C:\\Users\\nitin\\AppData\\Local\\Temp\\ipykernel_10084\\3149793419.py:7: SyntaxWarning: invalid escape sequence '\\R'\n",
      "  PDF_PATH = \"E:\\RAG\\FUNDAMENTAL OF MATHEMATICAL STATISTICS-S C GUPTA & V K KAPOOR.pdf\"\n"
     ]
    }
   ],
   "source": [
    "# Load environment variables\n",
    "load_dotenv()\n",
    "GEMINI_API_KEY = os.getenv(\"GEMINI_API_KEY\")\n",
    "PINECONE_API_KEY = os.getenv(\"PINECONE_API_KEY\")\n",
    "PINECONE_ENVIRONMENT = os.getenv(\"PINECONE_ENVIRONMENT\")\n",
    "PINECONE_INDEX_NAME = os.getenv(\"PINECONE_INDEX_NAME\")\n",
    "PDF_PATH = \"E:\\RAG\\FUNDAMENTAL OF MATHEMATICAL STATISTICS-S C GUPTA & V K KAPOOR.pdf\""
   ]
  },
  {
   "cell_type": "code",
   "execution_count": 3,
   "id": "c2bb95af-961c-43a4-a8fd-ab24464856c7",
   "metadata": {},
   "outputs": [
    {
     "name": "stdout",
     "output_type": "stream",
     "text": [
      "Loaded 1303 raw docs.\n"
     ]
    }
   ],
   "source": [
    "# Load PDF\n",
    "loader = PyPDFLoader(PDF_PATH)\n",
    "raw_docs = loader.load()\n",
    "print(f\"Loaded {len(raw_docs)} raw docs.\")\n"
   ]
  },
  {
   "cell_type": "code",
   "execution_count": 4,
   "id": "3449704f-cc60-4203-8bb7-1ae286320e69",
   "metadata": {},
   "outputs": [
    {
     "name": "stdout",
     "output_type": "stream",
     "text": [
      "Split into 3097 chunks.\n"
     ]
    }
   ],
   "source": [
    "# Chunk documents\n",
    "CHUNK_SIZE = 1000\n",
    "CHUNK_OVERLAP = 200\n",
    "splitter = RecursiveCharacterTextSplitter(chunk_size=CHUNK_SIZE, chunk_overlap=CHUNK_OVERLAP)\n",
    "chunked_docs = splitter.split_documents(raw_docs)\n",
    "print(f\"Split into {len(chunked_docs)} chunks.\")"
   ]
  },
  {
   "cell_type": "code",
   "execution_count": 8,
   "id": "61e2a1a6-9468-4bc9-90f8-47b1757470d3",
   "metadata": {},
   "outputs": [],
   "source": [
    "# Prepare texts from chunked docs\n",
    "texts = [doc.page_content for doc in chunked_docs]\n"
   ]
  },
  {
   "cell_type": "code",
   "execution_count": 13,
   "id": "07870111-1df7-4209-ab07-140365603a5d",
   "metadata": {},
   "outputs": [],
   "source": [
    "genai.configure(api_key=GEMINI_API_KEY)\n",
    "\n",
    "def embed_texts(texts):\n",
    "    embeddings = []\n",
    "    for text in texts:\n",
    "        response = genai.embed_content(\n",
    "            model=\"models/text-embedding-004\",\n",
    "            content=text\n",
    "        )\n",
    "        embeddings.append(response[\"embedding\"])\n",
    "    return embeddings"
   ]
  },
  {
   "cell_type": "code",
   "execution_count": 14,
   "id": "143aa646-5382-44bc-99ad-1848054711e8",
   "metadata": {},
   "outputs": [
    {
     "name": "stdout",
     "output_type": "stream",
     "text": [
      "Getting embeddings from Google Generative AI...\n",
      "Generated 3097 embeddings.\n"
     ]
    }
   ],
   "source": [
    "# Get embeddings via Google GenAI\n",
    "print(\"Getting embeddings from Google Generative AI...\")\n",
    "all_embeddings = embed_texts(texts)\n",
    "print(f\"Generated {len(all_embeddings)} embeddings.\")"
   ]
  },
  {
   "cell_type": "code",
   "execution_count": 18,
   "id": "683e5bc3-304a-4df5-a14b-4177834f6397",
   "metadata": {},
   "outputs": [
    {
     "name": "stdout",
     "output_type": "stream",
     "text": [
      "Uploading vectors to Pinecone (may take a while for many chunks)...\n",
      "Uploaded batch 1/31\n",
      "Uploaded batch 2/31\n",
      "Uploaded batch 3/31\n",
      "Uploaded batch 4/31\n",
      "Uploaded batch 5/31\n",
      "Uploaded batch 6/31\n",
      "Uploaded batch 7/31\n",
      "Uploaded batch 8/31\n",
      "Uploaded batch 9/31\n",
      "Uploaded batch 10/31\n",
      "Uploaded batch 11/31\n",
      "Uploaded batch 12/31\n",
      "Uploaded batch 13/31\n",
      "Uploaded batch 14/31\n",
      "Uploaded batch 15/31\n",
      "Uploaded batch 16/31\n",
      "Uploaded batch 17/31\n",
      "Uploaded batch 18/31\n",
      "Uploaded batch 19/31\n",
      "Uploaded batch 20/31\n",
      "Uploaded batch 21/31\n",
      "Uploaded batch 22/31\n",
      "Uploaded batch 23/31\n",
      "Uploaded batch 24/31\n",
      "Uploaded batch 25/31\n",
      "Uploaded batch 26/31\n",
      "Uploaded batch 27/31\n",
      "Uploaded batch 28/31\n",
      "Uploaded batch 29/31\n",
      "Uploaded batch 30/31\n",
      "Uploaded batch 31/31\n",
      "Upload complete!\n"
     ]
    }
   ],
   "source": [
    "pc = Pinecone(api_key=PINECONE_API_KEY)\n",
    "pinecone_index = pc.Index(PINECONE_INDEX_NAME)\n",
    "\n",
    "print(\"Uploading vectors to Pinecone (may take a while for many chunks)...\")\n",
    "\n",
    "vectors = []\n",
    "for i, (embedding, doc) in enumerate(zip(all_embeddings, chunked_docs)):\n",
    "    vectors.append({\n",
    "        \"id\": str(i), \n",
    "        \"values\": embedding, \n",
    "        \"metadata\": {\"text\": doc.page_content}\n",
    "    })\n",
    "\n",
    "BATCH_SIZE = 100\n",
    "for i in range(0, len(vectors), BATCH_SIZE):\n",
    "    batch = vectors[i:i+BATCH_SIZE]\n",
    "    pinecone_index.upsert(vectors=batch)\n",
    "    print(f\"Uploaded batch {i//BATCH_SIZE + 1}/{(len(vectors)-1)//BATCH_SIZE + 1}\")\n",
    "\n",
    "print(\"Upload complete!\")\n"
   ]
  },
  {
   "cell_type": "code",
   "execution_count": null,
   "id": "848f8910-f18d-4516-bd4b-7a8e2de634ba",
   "metadata": {},
   "outputs": [],
   "source": [
    "\n",
    "    "
   ]
  }
 ],
 "metadata": {
  "kernelspec": {
   "display_name": "Python 3 (ipykernel)",
   "language": "python",
   "name": "python3"
  },
  "language_info": {
   "codemirror_mode": {
    "name": "ipython",
    "version": 3
   },
   "file_extension": ".py",
   "mimetype": "text/x-python",
   "name": "python",
   "nbconvert_exporter": "python",
   "pygments_lexer": "ipython3",
   "version": "3.12.5"
  }
 },
 "nbformat": 4,
 "nbformat_minor": 5
}
